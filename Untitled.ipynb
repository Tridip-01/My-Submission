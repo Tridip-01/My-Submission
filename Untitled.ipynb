{
 "cells": [
  {
   "cell_type": "markdown",
   "id": "a7204cf6-260a-4089-b283-2c15e98d2aeb",
   "metadata": {},
   "source": [
    "# My Jupyter Notebook on IBM Watson Studio"
   ]
  },
  {
   "cell_type": "markdown",
   "id": "06c6be8a-f2a3-49b6-a954-8808afda25aa",
   "metadata": {},
   "source": [
    "### Tridip Karmakar"
   ]
  },
  {
   "cell_type": "markdown",
   "id": "ee9f3b58-dcc6-45c8-b8fe-ba752ed87252",
   "metadata": {},
   "source": [
    "### I am interested in data science because i want to solve problems using data."
   ]
  },
  {
   "cell_type": "markdown",
   "id": "7f77f0b4-7687-49ca-ba49-85a6b3bf1b70",
   "metadata": {},
   "source": [
    "### This code solve conditional problems  "
   ]
  },
  {
   "cell_type": "code",
   "execution_count": 3,
   "id": "73e8af1f-fa2c-4a73-b4c5-2bc4be48eb10",
   "metadata": {},
   "outputs": [
    {
     "name": "stdout",
     "output_type": "stream",
     "text": [
      "Go \n",
      "Mike\n"
     ]
    }
   ],
   "source": [
    "x=\"Go\"\n",
    "\n",
    "if(x==\"Go\"):\n",
    "\n",
    "  print('Go ')\n",
    "\n",
    "else:\n",
    "\n",
    "  print('Stop')\n",
    "\n",
    "print('Mike')"
   ]
  },
  {
   "cell_type": "markdown",
   "id": "78c94f15-b1f5-4298-bdf1-7562dec59624",
   "metadata": {
    "tags": []
   },
   "source": [
    "#### one \n",
    "#### two\n",
    "#### three\n",
    "#### one\n",
    "#### two\n",
    "#### three\n"
   ]
  }
 ],
 "metadata": {
  "kernelspec": {
   "display_name": "Python",
   "language": "python",
   "name": "conda-env-python-py"
  },
  "language_info": {
   "codemirror_mode": {
    "name": "ipython",
    "version": 3
   },
   "file_extension": ".py",
   "mimetype": "text/x-python",
   "name": "python",
   "nbconvert_exporter": "python",
   "pygments_lexer": "ipython3",
   "version": "3.7.12"
  }
 },
 "nbformat": 4,
 "nbformat_minor": 5
}
